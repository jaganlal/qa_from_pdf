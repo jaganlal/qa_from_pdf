{
 "cells": [
  {
   "cell_type": "code",
   "execution_count": 8,
   "metadata": {},
   "outputs": [],
   "source": [
    "from llama_index import SimpleDirectoryReader, LangchainEmbedding, GPTListIndex,GPTSimpleVectorIndex, PromptHelper\n",
    "from langchain.embeddings.huggingface import HuggingFaceEmbeddings\n",
    "from llama_index import LLMPredictor, ServiceContext\n",
    "import torch\n",
    "from langchain.llms.base import LLM\n",
    "from transformers import pipeline"
   ]
  },
  {
   "cell_type": "code",
   "execution_count": 9,
   "metadata": {},
   "outputs": [],
   "source": [
    "class customLLM(LLM):\n",
    "    model_name = \"google/flan-t5-large\"\n",
    "    pipeline = pipeline(\"text2text-generation\", model=model_name, device=\"cpu\", model_kwargs={\"torch_dtype\":torch.bfloat16})\n",
    "\n",
    "    def _call(self, prompt, stop=None):\n",
    "        return self.pipeline(prompt, max_length=9999)[0][\"generated_text\"]\n",
    " \n",
    "    def _identifying_params(self):\n",
    "        return {\"name_of_model\": self.model_name}\n",
    "\n",
    "    def _llm_type(self):\n",
    "        return \"custom\"\n",
    "\n",
    "\n",
    "llm_predictor = LLMPredictor(llm=customLLM())"
   ]
  },
  {
   "cell_type": "code",
   "execution_count": 10,
   "metadata": {},
   "outputs": [
    {
     "name": "stderr",
     "output_type": "stream",
     "text": [
      "INFO:sentence_transformers.SentenceTransformer:Load pretrained SentenceTransformer: sentence-transformers/all-mpnet-base-v2\n"
     ]
    },
    {
     "data": {
      "application/vnd.jupyter.widget-view+json": {
       "model_id": "72ebf3cfbb9f4722aa7723982aa2a9ad",
       "version_major": 2,
       "version_minor": 0
      },
      "text/plain": [
       "Downloading (…)a8e1d/.gitattributes:   0%|          | 0.00/1.18k [00:00<?, ?B/s]"
      ]
     },
     "metadata": {},
     "output_type": "display_data"
    },
    {
     "data": {
      "application/vnd.jupyter.widget-view+json": {
       "model_id": "3ff6d953861c4a7fbde6e2b98bea4fea",
       "version_major": 2,
       "version_minor": 0
      },
      "text/plain": [
       "Downloading (…)_Pooling/config.json:   0%|          | 0.00/190 [00:00<?, ?B/s]"
      ]
     },
     "metadata": {},
     "output_type": "display_data"
    },
    {
     "data": {
      "application/vnd.jupyter.widget-view+json": {
       "model_id": "b1e2d2693eee43d78ca966d3773e1b93",
       "version_major": 2,
       "version_minor": 0
      },
      "text/plain": [
       "Downloading (…)b20bca8e1d/README.md:   0%|          | 0.00/10.6k [00:00<?, ?B/s]"
      ]
     },
     "metadata": {},
     "output_type": "display_data"
    },
    {
     "data": {
      "application/vnd.jupyter.widget-view+json": {
       "model_id": "f1d3196b044844b0a985b9be4f8624e3",
       "version_major": 2,
       "version_minor": 0
      },
      "text/plain": [
       "Downloading (…)0bca8e1d/config.json:   0%|          | 0.00/571 [00:00<?, ?B/s]"
      ]
     },
     "metadata": {},
     "output_type": "display_data"
    },
    {
     "data": {
      "application/vnd.jupyter.widget-view+json": {
       "model_id": "ff85a278bc904369bcd86a896d7af205",
       "version_major": 2,
       "version_minor": 0
      },
      "text/plain": [
       "Downloading (…)ce_transformers.json:   0%|          | 0.00/116 [00:00<?, ?B/s]"
      ]
     },
     "metadata": {},
     "output_type": "display_data"
    },
    {
     "data": {
      "application/vnd.jupyter.widget-view+json": {
       "model_id": "8ba6d406cbe14195b98b307eeca31a80",
       "version_major": 2,
       "version_minor": 0
      },
      "text/plain": [
       "Downloading (…)e1d/data_config.json:   0%|          | 0.00/39.3k [00:00<?, ?B/s]"
      ]
     },
     "metadata": {},
     "output_type": "display_data"
    },
    {
     "data": {
      "application/vnd.jupyter.widget-view+json": {
       "model_id": "88bc03c03fb841a5949fcc2aabec3f7d",
       "version_major": 2,
       "version_minor": 0
      },
      "text/plain": [
       "Downloading pytorch_model.bin:   0%|          | 0.00/438M [00:00<?, ?B/s]"
      ]
     },
     "metadata": {},
     "output_type": "display_data"
    },
    {
     "data": {
      "application/vnd.jupyter.widget-view+json": {
       "model_id": "c8256e8891334ef6acf7f52f8896aca0",
       "version_major": 2,
       "version_minor": 0
      },
      "text/plain": [
       "Downloading (…)nce_bert_config.json:   0%|          | 0.00/53.0 [00:00<?, ?B/s]"
      ]
     },
     "metadata": {},
     "output_type": "display_data"
    },
    {
     "data": {
      "application/vnd.jupyter.widget-view+json": {
       "model_id": "094e9c444e194630a51f1e3a01a022a2",
       "version_major": 2,
       "version_minor": 0
      },
      "text/plain": [
       "Downloading (…)cial_tokens_map.json:   0%|          | 0.00/239 [00:00<?, ?B/s]"
      ]
     },
     "metadata": {},
     "output_type": "display_data"
    },
    {
     "data": {
      "application/vnd.jupyter.widget-view+json": {
       "model_id": "56e292de5b634209b83b0d258eff54d1",
       "version_major": 2,
       "version_minor": 0
      },
      "text/plain": [
       "Downloading (…)a8e1d/tokenizer.json:   0%|          | 0.00/466k [00:00<?, ?B/s]"
      ]
     },
     "metadata": {},
     "output_type": "display_data"
    },
    {
     "data": {
      "application/vnd.jupyter.widget-view+json": {
       "model_id": "d0ffa77de4124f27848085f83e8222a1",
       "version_major": 2,
       "version_minor": 0
      },
      "text/plain": [
       "Downloading (…)okenizer_config.json:   0%|          | 0.00/363 [00:00<?, ?B/s]"
      ]
     },
     "metadata": {},
     "output_type": "display_data"
    },
    {
     "data": {
      "application/vnd.jupyter.widget-view+json": {
       "model_id": "bdef7b803dfb4dc1b787320d95407630",
       "version_major": 2,
       "version_minor": 0
      },
      "text/plain": [
       "Downloading (…)8e1d/train_script.py:   0%|          | 0.00/13.1k [00:00<?, ?B/s]"
      ]
     },
     "metadata": {},
     "output_type": "display_data"
    },
    {
     "data": {
      "application/vnd.jupyter.widget-view+json": {
       "model_id": "dc951db839f2454487760c5c005c3e27",
       "version_major": 2,
       "version_minor": 0
      },
      "text/plain": [
       "Downloading (…)b20bca8e1d/vocab.txt:   0%|          | 0.00/232k [00:00<?, ?B/s]"
      ]
     },
     "metadata": {},
     "output_type": "display_data"
    },
    {
     "data": {
      "application/vnd.jupyter.widget-view+json": {
       "model_id": "5b4a7373d5474acca7aa0096dfe8b6cc",
       "version_major": 2,
       "version_minor": 0
      },
      "text/plain": [
       "Downloading (…)bca8e1d/modules.json:   0%|          | 0.00/349 [00:00<?, ?B/s]"
      ]
     },
     "metadata": {},
     "output_type": "display_data"
    },
    {
     "name": "stderr",
     "output_type": "stream",
     "text": [
      "INFO:sentence_transformers.SentenceTransformer:Use pytorch device: cpu\n"
     ]
    }
   ],
   "source": [
    "hfemb = HuggingFaceEmbeddings()\n",
    "embed_model = LangchainEmbedding(hfemb)"
   ]
  },
  {
   "cell_type": "code",
   "execution_count": 11,
   "metadata": {},
   "outputs": [],
   "source": [
    "from llama_index import Document\n",
    "\n",
    "with open('./output/sample_health_insurance_policy.txt', 'r') as f:\n",
    "    text = f.read()\n",
    "\n",
    "text_list = [text]\n",
    "\n",
    "documents = [Document(t) for t in text_list]"
   ]
  },
  {
   "cell_type": "code",
   "execution_count": 12,
   "metadata": {},
   "outputs": [
    {
     "data": {
      "application/vnd.jupyter.widget-view+json": {
       "model_id": "b59b8189898646bebd98de985ecd1d30",
       "version_major": 2,
       "version_minor": 0
      },
      "text/plain": [
       "Batches:   0%|          | 0/1 [00:00<?, ?it/s]"
      ]
     },
     "metadata": {},
     "output_type": "display_data"
    },
    {
     "name": "stderr",
     "output_type": "stream",
     "text": [
      "INFO:llama_index.token_counter.token_counter:> [build_index_from_nodes] Total LLM token usage: 0 tokens\n",
      "INFO:llama_index.token_counter.token_counter:> [build_index_from_nodes] Total embedding token usage: 5901 tokens\n"
     ]
    }
   ],
   "source": [
    "service_context = ServiceContext.from_defaults(llm_predictor=llm_predictor, embed_model=embed_model)\n",
    "index = GPTSimpleVectorIndex.from_documents(documents, service_context=service_context)"
   ]
  },
  {
   "cell_type": "code",
   "execution_count": 13,
   "metadata": {},
   "outputs": [],
   "source": [
    "import logging\n",
    "\n",
    "logging.getLogger().setLevel(logging.CRITICAL)"
   ]
  },
  {
   "cell_type": "code",
   "execution_count": 17,
   "metadata": {},
   "outputs": [],
   "source": [
    "query = 'What is the overall deductible?'\n",
    "query = 'What is the copay for Diagnostic test?'\n",
    "response = index.query(query)"
   ]
  },
  {
   "cell_type": "code",
   "execution_count": 18,
   "metadata": {},
   "outputs": [
    {
     "data": {
      "text/plain": [
       "Response(response='10 of 8 Insurance Company 1: Plan Option 1 Coverage Period: 01/01/2013 – 12/31/2013 Summary of Benefits and Coverage: What this Plan Covers & What it Costs Coverage for: Individual + Spouse | Plan Type: PPO ** Individual health insurance sample – ** Group health coverage sample – Your Rights to Continue Coverage: Federal and State laws may provide protections that allow you to keep this health insurance coverage as long as you pay your premium. There are exceptions, however, such as if: You commit fraud The insurer stops offering services in the State You move outside the coverage area For more information on your rights to continue coverage, contact the insurer at [contact number]. You may also contact your state insurance department at [insert applicable State Department of Insurance contact information]. OR Your Grievance and Appeals Rights: If you lose coverage under the plan, then, depending upon the circumstances, Federal and State laws may provide protections that allow you to keep health coverage. Any such rights may be limited in duration and will require you to pay a premium, which may be significantly higher than the premium you pay while covered under the plan. Other', source_nodes=[NodeWithScore(node=Node(text='Insurance Company 1: Plan Option 1 \\nCoverage Period: 01/01/2013 – 12/31/2013 \\nSummary of Benefits and Coverage: What this Plan Covers & What it Costs  Coverage for: Individual + Spouse | Plan Type: PPO \\n\\nThis is only a summary. If you want more detail about your coverage and costs, you can get the complete terms in the policy or plan \\ndocument at www.[insert] or by calling 1-800-[insert]. \\n\\n \\n\\n \\n\\n \\n\\nImportant Questions  Answers \\n\\nWhy this Matters: \\n\\nWhat is the overall \\ndeductible? \\n\\n$500 person /  \\n$1,000 family  \\nDoesn’t apply to preventive care  \\n\\nYou must pay all the costs up to the deductible amount before this plan begins to pay for \\ncovered services you use. Check your policy or plan document to see when the deductible \\nstarts over (usually, but not always, January 1st). See the chart starting on page 2 for how \\nmuch you pay for covered services after you meet the deductible. \\n\\nAre there other \\ndeductibles for specific \\nservices? \\n\\nYes. $300 for prescription drug \\ncoverage.  There are no other \\nspecific deductibles. \\n\\nIs there an out–of–\\npocket limit on my \\nexpenses? \\n\\nYes. For participating providers \\n$2,500 person / $5,000 \\nfamily \\nFor non-participating providers \\n$4,000 person / $8,000 family \\n\\nWhat is not included in \\nthe out–of–pocket \\nlimit? \\n\\nPremiums, balance-billed \\ncharges, and health care this \\nplan doesn’t cover. \\n\\nIs there an overall \\nannual limit on what \\nthe plan pays? \\n\\nNo.  \\n\\nDoes this plan use a \\nnetwork of providers? \\n\\nYes. See www.[insert].com or \\ncall 1-800-[insert] for a list of \\nparticipating providers. \\n\\nYou must pay all of the costs for these services up to the specific deductible amount \\nbefore this plan begins to pay for these services. \\n\\nThe out-of-pocket limit is the most you could pay during a coverage period (usually one \\nyear) for your share of the cost of covered services. This limit helps you plan for health \\ncare expenses. \\n\\nEven though you pay these expenses, they don’t count toward the out-of-pocket limit.  \\n\\nThe chart starting on page 2 describes any limits on what the plan will pay for specific \\ncovered services, such as office visits. \\n\\nIf you use an in-network doctor or other health care provider, this plan will pay some or all \\nof the costs of covered services. Be aware, your in-network doctor or hospital may use an \\nout-of-network provider for some services.  Plans use the term in-network, preferred, or \\nparticipating for providers in their network.  See the chart starting on page 2 for how this \\nplan pays different kinds of providers.  \\n\\nDo I need a referral to \\nsee a specialist? \\n\\nNo. You don’t need a referral to \\nsee a specialist. \\n\\nYou can see the specialist you choose without permission from this plan. \\n\\nAre there services this \\nplan doesn’t cover? \\n\\nYes. \\n\\nSome of the services this plan doesn’t cover are listed on page 4. See your policy or plan \\ndocument for additional information about excluded services. \\n\\nQuestions: Call 1-800-[insert] or visit us at www.[insert]. \\nIf you aren’t clear about any of the underlined terms used in this form, see the Glossary.  You can view the Glossary \\nat www.[insert] or call 1-800-[insert] to request a copy. \\n\\nOMB Control Numbers 1545-2229, \\n1210-0147, and 0938-1146  \\n\\n \\n    1 of 8 \\n\\nCorrected on May 11, 2012 \\n\\n\\x0cInsurance Company 1: Plan Option 1 \\nCoverage Period: 01/01/2013 – 12/31/2013 \\nSummary of Benefits and Coverage: What this Plan Covers & What it Costs  Coverage for: Individual + Spouse | Plan Type: PPO \\n\\n \\n \\n \\n \\n\\n \\n\\n \\n\\n  Copayments are fixed dollar amounts (for example, $15) you pay for covered health care, usually when you receive the service. \\n  Coinsurance is your share of the costs of a covered service, calculated as a percent of the allowed amount for the service. For example, if \\nthe plan’s allowed amount for an overnight hospital stay is $1,000, your coinsurance payment of 20% would be $200.  This may change if \\nyou haven’t met your deductible.  \\n\\n  The amount the plan pays for covered services is based on the allowed amount. If an out-of-network provider charges more than the \\n\\nallowed amount, you may have to pay the difference. For example, if an out-of-network hospital charges $1,500 for an overnight stay and \\nthe allowed amount is $1,000, you may have to pay the $500 difference. (This is called balance billing.) \\n\\n  This plan may encourage you to use participating providers by charging you lower deductibles, copayments and coinsurance amounts. \\n\\nCommon  \\nMedical Event \\n\\nIf you visit a health \\ncare provider’s office \\nor clinic \\n\\nIf you have a test \\n\\nServices You May Need \\n\\nNon-\\n\\nLimitations & Exceptions \\n\\nYour Cost If \\nYou Use a  \\nParticipating \\n\\nProvider \\n\\nYour Cost If \\nYou Use a  \\n\\nParticipating \\n\\nProvider \\n\\n20% coinsurance \\nfor chiropractor \\nand acupuncture \\nNo charge \\n\\n 40% coinsurance \\nfor chiropractor \\nand acupuncture \\n 40% coinsurance \\n\\nPrimary care visit to treat an injury or illness \\n\\n$35 copay/visit \\n\\n 40% coinsurance \\n\\n–––––––––––none––––––––––– \\n\\nSpecialist visit \\n\\n$50 copay/visit \\n\\n 40% coinsurance \\n\\n–––––––––––none––––––––––– \\n\\nOther practitioner office visit \\n\\n–––––––––––none––––––––––– \\n\\nPreventive care/screening/immunization \\n\\nDiagnostic test (x-ray, blood work) \\n\\n $10 copay/test \\n\\n 40% coinsurance \\n\\n \\n–––––––––––none––––––––––– \\n\\nImaging (CT/PET scans, MRIs)  \\n\\n $50 copay/test \\n\\n 40% coinsurance \\n\\n–––––––––––none––––––––––– \\n\\nQuestions: Call 1-800-[insert] or visit us at www.[insert]. \\nIf you aren’t clear about any of the underlined terms used in this form, see the Glossary.  You can view the Glossary \\nat www.[insert] or call 1-800-[insert] to request a copy. \\n\\n \\n    2 of 8 \\n\\n\\x0cInsurance Company 1: Plan Option 1 \\nCoverage Period: 01/01/2013 – 12/31/2013 \\nSummary of Benefits and Coverage: What this Plan Covers & What it Costs  Coverage for: Individual + Spouse | Plan Type: PPO \\n\\nCommon  \\nMedical Event \\n\\nIf you need drugs to \\ntreat your illness or \\ncondition \\n \\nMore information \\nabout prescription \\ndrug coverage is \\navailable at www. \\n[insert]. \\n\\nIf you have \\noutpatient surgery \\n\\nIf you need \\nimmediate medical \\nattention \\n\\nIf you have a \\nhospital stay \\n\\nServices You May Need \\n\\nNon-\\n\\nLimitations & Exceptions \\n\\nGeneric drugs \\n\\nCovers up to a 30-day supply (retail \\nprescription); 31-90 day supply (mail \\norder prescription) \\n\\nPreferred brand drugs \\n\\n 40% coinsurance \\n\\n–––––––––––none––––––––––– \\n\\nYour Cost If \\nYou Use a  \\n\\nParticipating \\n\\nProvider \\n\\n 40% coinsurance \\n\\nYour Cost If \\nYou Use a  \\nParticipating \\n\\nProvider \\n\\n$10 copay/ \\nprescription (retail \\nand mail order) \\n 20% coinsurance \\n(retail and mail \\norder) \\n 40% coinsurance \\n(retail and mail \\norder) \\n\\nNon-preferred brand drugs \\n\\n 60% coinsurance \\n\\n–––––––––––none––––––––––– \\n\\nSpecialty drugs  \\n\\n 50% coinsurance \\n\\n70% coinsurance \\n\\n–––––––––––none––––––––––– \\n\\nFacility fee (e.g., ambulatory surgery center) \\n\\n 20% coinsurance \\n\\n 40% coinsurance \\n\\n–––––––––––none––––––––––– \\n\\nPhysician/surgeon fees \\nEmergency room services \\nEmergency medical transportation \\nUrgent care \\n\\nFacility fee (e.g., hospital room) \\nPhysician/surgeon fee \\n\\n 20% coinsurance \\n 20% coinsurance \\n 20% coinsurance \\n 20% coinsurance \\n\\n 40% coinsurance \\n 20% coinsurance \\n 20% coinsurance \\n 40% coinsurance \\n\\n–––––––––––none––––––––––– \\n–––––––––––none––––––––––– \\n–––––––––––none––––––––––– \\n–––––––––––none––––––––––– \\n\\n 20% coinsurance \\n 20% coinsurance \\n\\n 40% coinsurance \\n 40% coinsurance \\n\\n–––––––––––none––––––––––– \\n–––––––––––none––––––––––– \\n\\nQuestions: Call 1-800-[insert] or visit us at www.[insert]. \\nIf you aren’t clear about any of the underlined terms used in this form, see the Glossary.  You can view the Glossary \\nat www.[insert] or call 1-800-[insert] to request a copy. \\n\\n \\n    3 of 8 \\n\\n\\x0cInsurance Company 1: Plan Option 1 \\nCoverage Period: 01/01/2013 – 12/31/2013 \\nSummary of Benefits and Coverage: What this Plan Covers & What it Costs  Coverage for: Individual + Spouse | Plan Type: PPO \\n\\nCommon  \\nMedical Event \\n\\nIf you have mental \\nhealth, behavioral \\nhealth, or substance \\nabuse needs \\n\\nIf you are pregnant \\n\\nIf you need help \\nrecovering or have \\nother special health \\nneeds \\n\\nIf your child needs \\ndental or eye care \\n\\nYour Cost If \\nYou Use a  \\n\\nParticipating \\n\\nProvider \\n\\nServices You May Need \\n\\nNon-\\n\\nLimitations & Exceptions \\n\\nYour Cost If \\nYou Use a  \\nParticipating \\n\\nProvider \\n\\n$35 copay/office \\nvisit and 20% \\ncoinsurance other \\noutpatient services \\n 20% coinsurance \\n$35 copay/office \\nvisit and 20% \\ncoinsurance other \\noutpatient services  \\n 20% coinsurance \\n 20% coinsurance \\n 20% coinsurance \\n\\n 20% coinsurance \\n 20% coinsurance \\n 20% coinsurance \\n 20% coinsurance \\n 20% coinsurance \\n 20% coinsurance \\n$35 copay/ visit  \\n20% coinsurance \\nNo Charge \\n\\nMental/Behavioral health outpatient services \\n\\n 40% coinsurance \\n\\n–––––––––––none––––––––––– \\n\\nMental/Behavioral health inpatient services \\n\\n 40% coinsurance \\n\\n–––––––––––none––––––––––– \\n\\nSubstance use disorder outpatient services \\n\\n 40% coinsurance \\n\\n–––––––––––none––––––––––– \\n\\nSubstance use disorder inpatient services \\nPrenatal and postnatal care \\nDelivery and all inpatient services \\n\\nHome health care \\nRehabilitation services \\nHabilitation services \\nSkilled nursing care \\nDurable medical equipment \\nHospice service \\nEye exam \\nGlasses \\nDental check-up \\n\\n 40% coinsurance \\n 40% coinsurance \\n 40% coinsurance \\n\\n 40% coinsurance \\n 40% coinsurance \\n 40% coinsurance \\n 40% coinsurance \\n 40% coinsurance \\n 40% coinsurance \\nNot Covered \\nNot Covered \\nNot Covered \\n\\n–––––––––––none––––––––––– \\n–––––––––––none––––––––––– \\n–––––––––––none––––––––––– \\n\\n–––––––––––none––––––––––– \\n–––––––––––none––––––––––– \\n–––––––––––none––––––––––– \\n–––––––––––none––––––––––– \\n–––––––––––none––––––––––– \\n–––––––––––none––––––––––– \\nLimited to one exam per year \\nLimited to one pair of glasses per year  \\nCovers up to $50 per year \\n\\nQuestions: Call 1-800-[insert] or visit us at www.[insert]. \\nIf you aren’t clear about any of the underlined terms used in this form, see the Glossary.  You can view the Glossary \\nat www.[insert] or call 1-800-[insert] to request a copy. \\n\\n \\n    4 of 8 \\n\\n\\x0cInsurance Company 1: Plan Option 1 \\nCoverage Period: 01/01/2013 – 12/31/2013 \\nSummary of Benefits and Coverage: What this Plan Covers & What it Costs  Coverage for: Individual + Spouse | Plan Type: PPO \\n\\nExcluded Services & Other Covered Services: \\n\\nServices Your Plan Does NOT Cover (This isn’t a complete list. Check your policy or plan document for other excluded services.) \\n\\n  Cosmetic surgery \\n\\n  Dental care (Adult) \\n\\n \\n\\nInfertility treatment \\n\\n  Long-term care \\n\\n  Routine eye care (Adult) \\n\\n  Non-emergency care when traveling outside \\n\\n  Routine foot care \\n\\nthe U.S. \\n\\n  Private-duty nursing \\n\\n \\n\\nOther Covered Services (This isn’t a complete list. Check your policy or plan document for other covered services and your costs for these \\nservices.) \\n\\n  Acupuncture (if prescribed for rehabilitation \\n\\n  Chiropractic care \\n\\n  Most coverage provided outside the United \\n\\npurposes) \\n\\n  Bariatric surgery \\n\\n  Hearing aids  \\n\\nStates. See www.[insert]  \\n\\n  Weight loss programs \\n\\n \\n\\n \\n\\nQuestions: Call 1-800-[insert] or visit us at www.[insert]. \\nIf you aren’t clear about any of the underlined terms used in this form, see the Glossary.  You can view the Glossary \\nat www.[insert] or call 1-800-[insert] to request a copy. \\n\\n \\n    5 of 8 \\n\\n\\x0cInsurance Company 1: Plan Option 1 \\nCoverage Period: 01/01/2013 – 12/31/2013 \\nSummary of Benefits and Coverage: What this Plan Covers & What it Costs  Coverage for: Individual + Spouse | Plan Type: PPO \\n\\n** Individual health insurance sample – \\n\\n** Group health coverage sample – \\n\\nYour Rights to Continue Coverage: \\n\\nFederal and State laws may provide protections that allow you \\nto keep this health insurance coverage as long as you pay your \\npremium. There are exceptions, however, such as if: \\n\\n  You commit fraud \\n\\n  The insurer stops offering services in the State \\n\\n  You move outside the coverage area \\n\\nFor more information on your rights to continue coverage, \\ncontact the insurer at [contact number]. You may also contact \\nyour state insurance department at [insert applicable State \\nDepartment of Insurance contact information]. \\n\\n \\n\\nOR \\n\\n \\n\\n \\n\\n \\n\\n \\n\\n \\n\\n \\n\\nYour Grievance and Appeals Rights: \\n\\nIf you lose coverage under the plan, then, depending upon the \\ncircumstances, Federal and State laws may provide protections \\nthat allow you to keep health coverage.  Any such rights may be \\nlimited in duration and will require you to pay a premium, \\nwhich may be significantly higher than the premium you pay \\nwhile covered under the plan.  Other', doc_id='3da43ac2-c09e-4a50-9e58-1349e54c340c', embedding=None, doc_hash='cdfa8eda5da13d616277376312b7f2bd82b379698f901eba3396e68ada15f4b4', extra_info=None, node_info={'start': 0, 'end': 12527}, relationships={<DocumentRelationship.SOURCE: '1'>: '0c3ec643-eec4-4ebc-a017-0debd9c64320', <DocumentRelationship.NEXT: '3'>: 'a74bf52e-d929-421b-b157-b138d92308be'}), score=0.30372312852968736)], extra_info={'3da43ac2-c09e-4a50-9e58-1349e54c340c': None})"
      ]
     },
     "execution_count": 18,
     "metadata": {},
     "output_type": "execute_result"
    }
   ],
   "source": [
    "response"
   ]
  },
  {
   "cell_type": "code",
   "execution_count": 16,
   "metadata": {},
   "outputs": [
    {
     "data": {
      "text/plain": [
       "Response(response='$500 person / $1,000 family', source_nodes=[NodeWithScore(node=Node(text='Insurance Company 1: Plan Option 1 \\nCoverage Period: 01/01/2013 – 12/31/2013 \\nSummary of Benefits and Coverage: What this Plan Covers & What it Costs  Coverage for: Individual + Spouse | Plan Type: PPO \\n\\nThis is only a summary. If you want more detail about your coverage and costs, you can get the complete terms in the policy or plan \\ndocument at www.[insert] or by calling 1-800-[insert]. \\n\\n \\n\\n \\n\\n \\n\\nImportant Questions  Answers \\n\\nWhy this Matters: \\n\\nWhat is the overall \\ndeductible? \\n\\n$500 person /  \\n$1,000 family  \\nDoesn’t apply to preventive care  \\n\\nYou must pay all the costs up to the deductible amount before this plan begins to pay for \\ncovered services you use. Check your policy or plan document to see when the deductible \\nstarts over (usually, but not always, January 1st). See the chart starting on page 2 for how \\nmuch you pay for covered services after you meet the deductible. \\n\\nAre there other \\ndeductibles for specific \\nservices? \\n\\nYes. $300 for prescription drug \\ncoverage.  There are no other \\nspecific deductibles. \\n\\nIs there an out–of–\\npocket limit on my \\nexpenses? \\n\\nYes. For participating providers \\n$2,500 person / $5,000 \\nfamily \\nFor non-participating providers \\n$4,000 person / $8,000 family \\n\\nWhat is not included in \\nthe out–of–pocket \\nlimit? \\n\\nPremiums, balance-billed \\ncharges, and health care this \\nplan doesn’t cover. \\n\\nIs there an overall \\nannual limit on what \\nthe plan pays? \\n\\nNo.  \\n\\nDoes this plan use a \\nnetwork of providers? \\n\\nYes. See www.[insert].com or \\ncall 1-800-[insert] for a list of \\nparticipating providers. \\n\\nYou must pay all of the costs for these services up to the specific deductible amount \\nbefore this plan begins to pay for these services. \\n\\nThe out-of-pocket limit is the most you could pay during a coverage period (usually one \\nyear) for your share of the cost of covered services. This limit helps you plan for health \\ncare expenses. \\n\\nEven though you pay these expenses, they don’t count toward the out-of-pocket limit.  \\n\\nThe chart starting on page 2 describes any limits on what the plan will pay for specific \\ncovered services, such as office visits. \\n\\nIf you use an in-network doctor or other health care provider, this plan will pay some or all \\nof the costs of covered services. Be aware, your in-network doctor or hospital may use an \\nout-of-network provider for some services.  Plans use the term in-network, preferred, or \\nparticipating for providers in their network.  See the chart starting on page 2 for how this \\nplan pays different kinds of providers.  \\n\\nDo I need a referral to \\nsee a specialist? \\n\\nNo. You don’t need a referral to \\nsee a specialist. \\n\\nYou can see the specialist you choose without permission from this plan. \\n\\nAre there services this \\nplan doesn’t cover? \\n\\nYes. \\n\\nSome of the services this plan doesn’t cover are listed on page 4. See your policy or plan \\ndocument for additional information about excluded services. \\n\\nQuestions: Call 1-800-[insert] or visit us at www.[insert]. \\nIf you aren’t clear about any of the underlined terms used in this form, see the Glossary.  You can view the Glossary \\nat www.[insert] or call 1-800-[insert] to request a copy. \\n\\nOMB Control Numbers 1545-2229, \\n1210-0147, and 0938-1146  \\n\\n \\n    1 of 8 \\n\\nCorrected on May 11, 2012 \\n\\n\\x0cInsurance Company 1: Plan Option 1 \\nCoverage Period: 01/01/2013 – 12/31/2013 \\nSummary of Benefits and Coverage: What this Plan Covers & What it Costs  Coverage for: Individual + Spouse | Plan Type: PPO \\n\\n \\n \\n \\n \\n\\n \\n\\n \\n\\n  Copayments are fixed dollar amounts (for example, $15) you pay for covered health care, usually when you receive the service. \\n  Coinsurance is your share of the costs of a covered service, calculated as a percent of the allowed amount for the service. For example, if \\nthe plan’s allowed amount for an overnight hospital stay is $1,000, your coinsurance payment of 20% would be $200.  This may change if \\nyou haven’t met your deductible.  \\n\\n  The amount the plan pays for covered services is based on the allowed amount. If an out-of-network provider charges more than the \\n\\nallowed amount, you may have to pay the difference. For example, if an out-of-network hospital charges $1,500 for an overnight stay and \\nthe allowed amount is $1,000, you may have to pay the $500 difference. (This is called balance billing.) \\n\\n  This plan may encourage you to use participating providers by charging you lower deductibles, copayments and coinsurance amounts. \\n\\nCommon  \\nMedical Event \\n\\nIf you visit a health \\ncare provider’s office \\nor clinic \\n\\nIf you have a test \\n\\nServices You May Need \\n\\nNon-\\n\\nLimitations & Exceptions \\n\\nYour Cost If \\nYou Use a  \\nParticipating \\n\\nProvider \\n\\nYour Cost If \\nYou Use a  \\n\\nParticipating \\n\\nProvider \\n\\n20% coinsurance \\nfor chiropractor \\nand acupuncture \\nNo charge \\n\\n 40% coinsurance \\nfor chiropractor \\nand acupuncture \\n 40% coinsurance \\n\\nPrimary care visit to treat an injury or illness \\n\\n$35 copay/visit \\n\\n 40% coinsurance \\n\\n–––––––––––none––––––––––– \\n\\nSpecialist visit \\n\\n$50 copay/visit \\n\\n 40% coinsurance \\n\\n–––––––––––none––––––––––– \\n\\nOther practitioner office visit \\n\\n–––––––––––none––––––––––– \\n\\nPreventive care/screening/immunization \\n\\nDiagnostic test (x-ray, blood work) \\n\\n $10 copay/test \\n\\n 40% coinsurance \\n\\n \\n–––––––––––none––––––––––– \\n\\nImaging (CT/PET scans, MRIs)  \\n\\n $50 copay/test \\n\\n 40% coinsurance \\n\\n–––––––––––none––––––––––– \\n\\nQuestions: Call 1-800-[insert] or visit us at www.[insert]. \\nIf you aren’t clear about any of the underlined terms used in this form, see the Glossary.  You can view the Glossary \\nat www.[insert] or call 1-800-[insert] to request a copy. \\n\\n \\n    2 of 8 \\n\\n\\x0cInsurance Company 1: Plan Option 1 \\nCoverage Period: 01/01/2013 – 12/31/2013 \\nSummary of Benefits and Coverage: What this Plan Covers & What it Costs  Coverage for: Individual + Spouse | Plan Type: PPO \\n\\nCommon  \\nMedical Event \\n\\nIf you need drugs to \\ntreat your illness or \\ncondition \\n \\nMore information \\nabout prescription \\ndrug coverage is \\navailable at www. \\n[insert]. \\n\\nIf you have \\noutpatient surgery \\n\\nIf you need \\nimmediate medical \\nattention \\n\\nIf you have a \\nhospital stay \\n\\nServices You May Need \\n\\nNon-\\n\\nLimitations & Exceptions \\n\\nGeneric drugs \\n\\nCovers up to a 30-day supply (retail \\nprescription); 31-90 day supply (mail \\norder prescription) \\n\\nPreferred brand drugs \\n\\n 40% coinsurance \\n\\n–––––––––––none––––––––––– \\n\\nYour Cost If \\nYou Use a  \\n\\nParticipating \\n\\nProvider \\n\\n 40% coinsurance \\n\\nYour Cost If \\nYou Use a  \\nParticipating \\n\\nProvider \\n\\n$10 copay/ \\nprescription (retail \\nand mail order) \\n 20% coinsurance \\n(retail and mail \\norder) \\n 40% coinsurance \\n(retail and mail \\norder) \\n\\nNon-preferred brand drugs \\n\\n 60% coinsurance \\n\\n–––––––––––none––––––––––– \\n\\nSpecialty drugs  \\n\\n 50% coinsurance \\n\\n70% coinsurance \\n\\n–––––––––––none––––––––––– \\n\\nFacility fee (e.g., ambulatory surgery center) \\n\\n 20% coinsurance \\n\\n 40% coinsurance \\n\\n–––––––––––none––––––––––– \\n\\nPhysician/surgeon fees \\nEmergency room services \\nEmergency medical transportation \\nUrgent care \\n\\nFacility fee (e.g., hospital room) \\nPhysician/surgeon fee \\n\\n 20% coinsurance \\n 20% coinsurance \\n 20% coinsurance \\n 20% coinsurance \\n\\n 40% coinsurance \\n 20% coinsurance \\n 20% coinsurance \\n 40% coinsurance \\n\\n–––––––––––none––––––––––– \\n–––––––––––none––––––––––– \\n–––––––––––none––––––––––– \\n–––––––––––none––––––––––– \\n\\n 20% coinsurance \\n 20% coinsurance \\n\\n 40% coinsurance \\n 40% coinsurance \\n\\n–––––––––––none––––––––––– \\n–––––––––––none––––––––––– \\n\\nQuestions: Call 1-800-[insert] or visit us at www.[insert]. \\nIf you aren’t clear about any of the underlined terms used in this form, see the Glossary.  You can view the Glossary \\nat www.[insert] or call 1-800-[insert] to request a copy. \\n\\n \\n    3 of 8 \\n\\n\\x0cInsurance Company 1: Plan Option 1 \\nCoverage Period: 01/01/2013 – 12/31/2013 \\nSummary of Benefits and Coverage: What this Plan Covers & What it Costs  Coverage for: Individual + Spouse | Plan Type: PPO \\n\\nCommon  \\nMedical Event \\n\\nIf you have mental \\nhealth, behavioral \\nhealth, or substance \\nabuse needs \\n\\nIf you are pregnant \\n\\nIf you need help \\nrecovering or have \\nother special health \\nneeds \\n\\nIf your child needs \\ndental or eye care \\n\\nYour Cost If \\nYou Use a  \\n\\nParticipating \\n\\nProvider \\n\\nServices You May Need \\n\\nNon-\\n\\nLimitations & Exceptions \\n\\nYour Cost If \\nYou Use a  \\nParticipating \\n\\nProvider \\n\\n$35 copay/office \\nvisit and 20% \\ncoinsurance other \\noutpatient services \\n 20% coinsurance \\n$35 copay/office \\nvisit and 20% \\ncoinsurance other \\noutpatient services  \\n 20% coinsurance \\n 20% coinsurance \\n 20% coinsurance \\n\\n 20% coinsurance \\n 20% coinsurance \\n 20% coinsurance \\n 20% coinsurance \\n 20% coinsurance \\n 20% coinsurance \\n$35 copay/ visit  \\n20% coinsurance \\nNo Charge \\n\\nMental/Behavioral health outpatient services \\n\\n 40% coinsurance \\n\\n–––––––––––none––––––––––– \\n\\nMental/Behavioral health inpatient services \\n\\n 40% coinsurance \\n\\n–––––––––––none––––––––––– \\n\\nSubstance use disorder outpatient services \\n\\n 40% coinsurance \\n\\n–––––––––––none––––––––––– \\n\\nSubstance use disorder inpatient services \\nPrenatal and postnatal care \\nDelivery and all inpatient services \\n\\nHome health care \\nRehabilitation services \\nHabilitation services \\nSkilled nursing care \\nDurable medical equipment \\nHospice service \\nEye exam \\nGlasses \\nDental check-up \\n\\n 40% coinsurance \\n 40% coinsurance \\n 40% coinsurance \\n\\n 40% coinsurance \\n 40% coinsurance \\n 40% coinsurance \\n 40% coinsurance \\n 40% coinsurance \\n 40% coinsurance \\nNot Covered \\nNot Covered \\nNot Covered \\n\\n–––––––––––none––––––––––– \\n–––––––––––none––––––––––– \\n–––––––––––none––––––––––– \\n\\n–––––––––––none––––––––––– \\n–––––––––––none––––––––––– \\n–––––––––––none––––––––––– \\n–––––––––––none––––––––––– \\n–––––––––––none––––––––––– \\n–––––––––––none––––––––––– \\nLimited to one exam per year \\nLimited to one pair of glasses per year  \\nCovers up to $50 per year \\n\\nQuestions: Call 1-800-[insert] or visit us at www.[insert]. \\nIf you aren’t clear about any of the underlined terms used in this form, see the Glossary.  You can view the Glossary \\nat www.[insert] or call 1-800-[insert] to request a copy. \\n\\n \\n    4 of 8 \\n\\n\\x0cInsurance Company 1: Plan Option 1 \\nCoverage Period: 01/01/2013 – 12/31/2013 \\nSummary of Benefits and Coverage: What this Plan Covers & What it Costs  Coverage for: Individual + Spouse | Plan Type: PPO \\n\\nExcluded Services & Other Covered Services: \\n\\nServices Your Plan Does NOT Cover (This isn’t a complete list. Check your policy or plan document for other excluded services.) \\n\\n  Cosmetic surgery \\n\\n  Dental care (Adult) \\n\\n \\n\\nInfertility treatment \\n\\n  Long-term care \\n\\n  Routine eye care (Adult) \\n\\n  Non-emergency care when traveling outside \\n\\n  Routine foot care \\n\\nthe U.S. \\n\\n  Private-duty nursing \\n\\n \\n\\nOther Covered Services (This isn’t a complete list. Check your policy or plan document for other covered services and your costs for these \\nservices.) \\n\\n  Acupuncture (if prescribed for rehabilitation \\n\\n  Chiropractic care \\n\\n  Most coverage provided outside the United \\n\\npurposes) \\n\\n  Bariatric surgery \\n\\n  Hearing aids  \\n\\nStates. See www.[insert]  \\n\\n  Weight loss programs \\n\\n \\n\\n \\n\\nQuestions: Call 1-800-[insert] or visit us at www.[insert]. \\nIf you aren’t clear about any of the underlined terms used in this form, see the Glossary.  You can view the Glossary \\nat www.[insert] or call 1-800-[insert] to request a copy. \\n\\n \\n    5 of 8 \\n\\n\\x0cInsurance Company 1: Plan Option 1 \\nCoverage Period: 01/01/2013 – 12/31/2013 \\nSummary of Benefits and Coverage: What this Plan Covers & What it Costs  Coverage for: Individual + Spouse | Plan Type: PPO \\n\\n** Individual health insurance sample – \\n\\n** Group health coverage sample – \\n\\nYour Rights to Continue Coverage: \\n\\nFederal and State laws may provide protections that allow you \\nto keep this health insurance coverage as long as you pay your \\npremium. There are exceptions, however, such as if: \\n\\n  You commit fraud \\n\\n  The insurer stops offering services in the State \\n\\n  You move outside the coverage area \\n\\nFor more information on your rights to continue coverage, \\ncontact the insurer at [contact number]. You may also contact \\nyour state insurance department at [insert applicable State \\nDepartment of Insurance contact information]. \\n\\n \\n\\nOR \\n\\n \\n\\n \\n\\n \\n\\n \\n\\n \\n\\n \\n\\nYour Grievance and Appeals Rights: \\n\\nIf you lose coverage under the plan, then, depending upon the \\ncircumstances, Federal and State laws may provide protections \\nthat allow you to keep health coverage.  Any such rights may be \\nlimited in duration and will require you to pay a premium, \\nwhich may be significantly higher than the premium you pay \\nwhile covered under the plan.  Other', doc_id='3da43ac2-c09e-4a50-9e58-1349e54c340c', embedding=None, doc_hash='cdfa8eda5da13d616277376312b7f2bd82b379698f901eba3396e68ada15f4b4', extra_info=None, node_info={'start': 0, 'end': 12527}, relationships={<DocumentRelationship.SOURCE: '1'>: '0c3ec643-eec4-4ebc-a017-0debd9c64320', <DocumentRelationship.NEXT: '3'>: 'a74bf52e-d929-421b-b157-b138d92308be'}), score=0.48020902524293874)], extra_info={'3da43ac2-c09e-4a50-9e58-1349e54c340c': None})"
      ]
     },
     "execution_count": 16,
     "metadata": {},
     "output_type": "execute_result"
    }
   ],
   "source": [
    "response"
   ]
  },
  {
   "cell_type": "code",
   "execution_count": 15,
   "metadata": {},
   "outputs": [],
   "source": [
    "from IPython.display import display\n",
    "import ipywidgets as widgets"
   ]
  },
  {
   "cell_type": "code",
   "execution_count": 16,
   "metadata": {},
   "outputs": [
    {
     "name": "stdout",
     "output_type": "stream",
     "text": [
      "Welcome to the Transformers chatbot! Type 'exit' to stop.\n"
     ]
    },
    {
     "data": {
      "application/vnd.jupyter.widget-view+json": {
       "model_id": "2fa77f7002b74989b0bc387fc47f4f7c",
       "version_major": 2,
       "version_minor": 0
      },
      "text/plain": [
       "Text(value='', continuous_update=False, placeholder='Please enter your question:')"
      ]
     },
     "metadata": {},
     "output_type": "display_data"
    }
   ],
   "source": [
    "chat_history = []\n",
    "\n",
    "def on_submit(_):\n",
    "    query = input_box.value\n",
    "    input_box.value = \"\"\n",
    "    \n",
    "    if query.lower() == 'exit':\n",
    "        print(\"Thank you for using the State of the Union chatbot!\")\n",
    "        return\n",
    "    \n",
    "    result = index.query(query)\n",
    "    chat_history.append((query, result['answer']))\n",
    "    \n",
    "    display(widgets.HTML(f'<b>User:</b> {query}'))\n",
    "    display(widgets.HTML(f'<b><font color=\"blue\">Chatbot:</font></b> {result[\"answer\"]}'))\n",
    "\n",
    "print(\"Welcome to the Transformers chatbot! Type 'exit' to stop.\")\n",
    "\n",
    "input_box = widgets.Text(placeholder='Please enter your question:')\n",
    "input_box.continuous_update = False\n",
    "input_box.observe(on_submit, names='value')\n",
    "# input_box.on_submit(on_submit)\n",
    "\n",
    "display(input_box)"
   ]
  }
 ],
 "metadata": {
  "kernelspec": {
   "display_name": "env",
   "language": "python",
   "name": "python3"
  },
  "language_info": {
   "codemirror_mode": {
    "name": "ipython",
    "version": 3
   },
   "file_extension": ".py",
   "mimetype": "text/x-python",
   "name": "python",
   "nbconvert_exporter": "python",
   "pygments_lexer": "ipython3",
   "version": "3.9.7"
  },
  "orig_nbformat": 4
 },
 "nbformat": 4,
 "nbformat_minor": 2
}
