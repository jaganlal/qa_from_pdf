{
 "cells": [
  {
   "cell_type": "code",
   "execution_count": 7,
   "metadata": {},
   "outputs": [
    {
     "name": "stderr",
     "output_type": "stream",
     "text": [
      "None of PyTorch, TensorFlow >= 2.0, or Flax have been found. Models won't be available and only tokenizers, configuration and file/data utilities can be used.\n"
     ]
    }
   ],
   "source": [
    "import os\n",
    "import pandas as pd\n",
    "import matplotlib.pyplot as plt\n",
    "from transformers import GPT2TokenizerFast\n",
    "from langchain.document_loaders import PyPDFLoader\n",
    "from langchain.text_splitter import RecursiveCharacterTextSplitter\n",
    "from langchain.embeddings import OpenAIEmbeddings\n",
    "from langchain.vectorstores import FAISS\n",
    "from langchain.chains.question_answering import load_qa_chain\n",
    "from langchain.llms import OpenAI\n",
    "from langchain.chains import ConversationalRetrievalChain"
   ]
  },
  {
   "cell_type": "code",
   "execution_count": 8,
   "metadata": {},
   "outputs": [],
   "source": [
    "os.environ['OPENAI_API_KEY'] = os.getenv('OPENAI_API_KEY')\n",
    "\n",
    "file_name = './data/sbc-sample.pdf'"
   ]
  },
  {
   "cell_type": "code",
   "execution_count": 9,
   "metadata": {},
   "outputs": [
    {
     "name": "stdout",
     "output_type": "stream",
     "text": [
      "page_content='1 of 8 Insurance Company 1: Plan Option 1  Coverage Period: 01/01/2013 – 12/31/2013 \\nSummary of Benefits and Coverage: What this Plan Covers & What it Costs  Coverage for: Individual + Spouse | Plan Type: PPO \\nQuestions:  Call 1-800-[insert] or visit us at www .[insert] . \\nIf you aren’t clear about any of the underlined terms used in this form, see the Glossary.  You can view the Glossary \\nat www.[insert]  or call 1- 800-[ insert ] to request a copy.   \\n This is  only a summary . If you want more detail about you r coverage and costs , you can get the complete terms in the policy or plan \\ndocument at www. [insert]  or by calling 1-800-[insert] . \\n  \\nImportant Questions  Answers  Why this Matters:  \\nWhat is the overa ll \\ndeductible ? $500 person  /  \\n$1,000 family  \\nDoesn’t apply to preventive  care  You must pay all the costs up to the deductible  amount before this  plan begins to pay for \\ncovered services you use. Check your policy or plan document to see when the deductible  \\nstarts over (usually, but not always, January 1st). See the chart starting on page 2 for how \\nmuch you pay for covered services after you meet the deductible . \\nAre there other  \\ndeductibles  for specific \\nservices?  Yes. $300 for prescription drug \\ncoverage .  There are no other \\nspecific deductibles . You must pay all of the costs for these services up to the specific deductible  amount \\nbefore this plan begins to pay for these services.  \\nIs there an out–of–\\npocket limit  on my \\nexpenses?  Yes. For participating provider s \\n$2,500  person / $5,000 \\nfamily  \\nFor non -participating providers \\n$4,000  person / $8,000  family  The out-of-pocket limit  is the most you could pay during a coverage period (usually one \\nyear) for your share of the cost of covered services. This limit helps you  plan for health \\ncare expenses.  \\nWhat is not included in  \\nthe out–of–pocket \\nlimit ? Premium s, balance -billed \\ncharges, and health care this \\nplan doesn’t cover.  Even though you pay these expenses, they don’t count toward the out-of-pocket limit .  \\nIs there an overall \\nannual limit on what \\nthe plan pays?  No.  The chart starting on page 2 describes any limits on what the plan will pay for specific  \\ncovered services, such as office visits.  \\nDoes this plan use a \\nnetwork  of providers ? Yes. See www. [insert] .com or \\ncall 1-800-[insert] for a list of \\nparticipating providers . If you use an in-network doctor or other health care provider , this plan will pay some or all \\nof the costs of covered services . Be aware, your in -network doctor or hospital may use an \\nout-of-network provider  for some services.  Plans  use the term in-network , preferred , or \\nparticipating  for providers  in their network .  See the chart starting on page 2 for how this \\nplan pays different kinds of providers .  \\nDo I need a referral to \\nsee a specialist ? No. You  don’t need a referral to \\nsee a specialist . You can see the specialist  you choose without permission from this plan. \\nAre there services this \\nplan doesn’t cover?  Yes. Some of the services this  plan doesn’t cover are listed  on page 4 . See your policy or plan \\ndocument for additional information about excluded services . \\nOMB Control Numbers 1545 -2229 , \\n1210 -0147 , and  0938 -1146   \\nCorrected on May 11, 2012' metadata={'source': './data/sbc-sample.pdf', 'page': 0}\n"
     ]
    }
   ],
   "source": [
    "# You MUST add your PDF to local files in this notebook (folder icon on left hand side of screen)\n",
    "\n",
    "# Simple method - Split by pages \n",
    "loader = PyPDFLoader(file_name)\n",
    "pages = loader.load_and_split()\n",
    "print(pages[0])\n",
    "\n",
    "# SKIP TO STEP 2 IF YOU'RE USING THIS METHOD\n",
    "chunks = pages"
   ]
  },
  {
   "cell_type": "code",
   "execution_count": 10,
   "metadata": {},
   "outputs": [],
   "source": [
    "# Advanced method - Split by chunk\n",
    "\n",
    "# Step 1: Convert PDF to text\n",
    "import textract\n",
    "doc = textract.process(file_name)\n",
    "\n",
    "# Step 2: Save to .txt and reopen (helps prevent issues)\n",
    "with open('./output/sample_health_insurance_policy.txt', 'w') as f:\n",
    "    f.write(doc.decode('utf-8'))\n",
    "\n",
    "with open('./output/sample_health_insurance_policy.txt', 'r') as f:\n",
    "    text = f.read()\n",
    "\n",
    "# Step 3: Create function to count tokens\n",
    "tokenizer = GPT2TokenizerFast.from_pretrained(\"gpt2\")\n",
    "\n",
    "def count_tokens(text: str) -> int:\n",
    "    return len(tokenizer.encode(text))\n",
    "\n",
    "# Step 4: Split text into chunks\n",
    "text_splitter = RecursiveCharacterTextSplitter(\n",
    "    # Set a really small chunk size, just to show.\n",
    "    chunk_size = 512,\n",
    "    chunk_overlap  = 24,\n",
    "    length_function = count_tokens,\n",
    ")\n",
    "\n",
    "chunks = text_splitter.create_documents([text])"
   ]
  },
  {
   "cell_type": "code",
   "execution_count": 11,
   "metadata": {},
   "outputs": [
    {
     "data": {
      "image/png": "[encoded data removed]",
      "text/plain": [
       "<Figure size 640x480 with 1 Axes>"
      ]
     },
     "metadata": {},
     "output_type": "display_data"
    }
   ],
   "source": [
    "# Quick data visualization to ensure chunking was successful\n",
    "\n",
    "# Create a list of token counts\n",
    "token_counts = [count_tokens(chunk.page_content) for chunk in chunks]\n",
    "\n",
    "# Create a DataFrame from the token counts\n",
    "df = pd.DataFrame({'Token Count': token_counts})\n",
    "\n",
    "# Create a histogram of the token count distribution\n",
    "df.hist(bins=40, )\n",
    "\n",
    "# Show the plot\n",
    "plt.show()"
   ]
  },
  {
   "cell_type": "code",
   "execution_count": 12,
   "metadata": {},
   "outputs": [],
   "source": [
    "# Get embedding model\n",
    "embeddings = OpenAIEmbeddings()\n",
    "\n",
    "# Create vector database\n",
    "db = FAISS.from_documents(chunks, embeddings)"
   ]
  },
  {
   "cell_type": "code",
   "execution_count": 13,
   "metadata": {},
   "outputs": [
    {
     "data": {
      "text/plain": [
       "Document(page_content='Insurance Company 1: Plan Option 1 \\nCoverage Period: 01/01/2013 – 12/31/2013 \\nSummary of Benefits and Coverage: What this Plan Covers & What it Costs  Coverage for: Individual + Spouse | Plan Type: PPO \\n\\nThis is only a summary. If you want more detail about your coverage and costs, you can get the complete terms in the policy or plan \\ndocument at www.[insert] or by calling 1-800-[insert]. \\n\\n \\n\\n \\n\\n \\n\\nImportant Questions  Answers \\n\\nWhy this Matters: \\n\\nWhat is the overall \\ndeductible? \\n\\n$500 person /  \\n$1,000 family  \\nDoesn’t apply to preventive care  \\n\\nYou must pay all the costs up to the deductible amount before this plan begins to pay for \\ncovered services you use. Check your policy or plan document to see when the deductible \\nstarts over (usually, but not always, January 1st). See the chart starting on page 2 for how \\nmuch you pay for covered services after you meet the deductible. \\n\\nAre there other \\ndeductibles for specific \\nservices? \\n\\nYes. $300 for prescription drug \\ncoverage.  There are no other \\nspecific deductibles. \\n\\nIs there an out–of–\\npocket limit on my \\nexpenses? \\n\\nYes. For participating providers \\n$2,500 person / $5,000 \\nfamily \\nFor non-participating providers \\n$4,000 person / $8,000 family \\n\\nWhat is not included in \\nthe out–of–pocket \\nlimit? \\n\\nPremiums, balance-billed \\ncharges, and health care this \\nplan doesn’t cover. \\n\\nIs there an overall \\nannual limit on what \\nthe plan pays? \\n\\nNo.  \\n\\nDoes this plan use a \\nnetwork of providers? \\n\\nYes. See www.[insert].com or \\ncall 1-800-[insert] for a list of \\nparticipating providers. \\n\\nYou must pay all of the costs for these services up to the specific deductible amount \\nbefore this plan begins to pay for these services.', metadata={})"
      ]
     },
     "execution_count": 13,
     "metadata": {},
     "output_type": "execute_result"
    }
   ],
   "source": [
    "# Check similarity search is working\n",
    "query = 'What is the overall deductible?'\n",
    "docs = db.similarity_search(query)\n",
    "docs[0]"
   ]
  },
  {
   "cell_type": "code",
   "execution_count": 14,
   "metadata": {},
   "outputs": [],
   "source": [
    "# Create QA chain to integrate similarity search with user queries (answer query from knowledge base)\n",
    "\n",
    "# chain = load_qa_chain(OpenAI(temperature=0), chain_type=\"stuff\")\n",
    "\n",
    "# query = 'What is the overall deductible?'\n",
    "# docs = db.similarity_search(query)\n",
    "\n",
    "# chain.run(input_documents=docs, question=query)"
   ]
  },
  {
   "cell_type": "code",
   "execution_count": 15,
   "metadata": {},
   "outputs": [],
   "source": [
    "from IPython.display import display\n",
    "import ipywidgets as widgets\n",
    "\n",
    "# Create conversation chain that uses our vectordb as retriver, this also allows for chat history management\n",
    "qa = ConversationalRetrievalChain.from_llm(OpenAI(temperature=0.1), db.as_retriever())"
   ]
  },
  {
   "cell_type": "code",
   "execution_count": 16,
   "metadata": {},
   "outputs": [
    {
     "name": "stdout",
     "output_type": "stream",
     "text": [
      "Welcome to the Transformers chatbot! Type 'exit' to stop.\n"
     ]
    },
    {
     "data": {
      "application/vnd.jupyter.widget-view+json": {
       "model_id": "2fa77f7002b74989b0bc387fc47f4f7c",
       "version_major": 2,
       "version_minor": 0
      },
      "text/plain": [
       "Text(value='', continuous_update=False, placeholder='Please enter your question:')"
      ]
     },
     "metadata": {},
     "output_type": "display_data"
    }
   ],
   "source": [
    "chat_history = []\n",
    "\n",
    "def on_submit(_):\n",
    "    query = input_box.value\n",
    "    input_box.value = \"\"\n",
    "    \n",
    "    if query.lower() == 'exit':\n",
    "        print(\"Thank you for using the State of the Union chatbot!\")\n",
    "        return\n",
    "    \n",
    "    result = qa({\"question\": query, \"chat_history\": chat_history})\n",
    "    chat_history.append((query, result['answer']))\n",
    "    \n",
    "    display(widgets.HTML(f'<b>User:</b> {query}'))\n",
    "    display(widgets.HTML(f'<b><font color=\"blue\">Chatbot:</font></b> {result[\"answer\"]}'))\n",
    "\n",
    "print(\"Welcome to the Transformers chatbot! Type 'exit' to stop.\")\n",
    "\n",
    "input_box = widgets.Text(placeholder='Please enter your question:')\n",
    "input_box.continuous_update = False\n",
    "input_box.observe(on_submit, names='value')\n",
    "# input_box.on_submit(on_submit)\n",
    "\n",
    "display(input_box)"
   ]
  }
 ],
 "metadata": {
  "kernelspec": {
   "display_name": "env",
   "language": "python",
   "name": "python3"
  },
  "language_info": {
   "codemirror_mode": {
    "name": "ipython",
    "version": 3
   },
   "file_extension": ".py",
   "mimetype": "text/x-python",
   "name": "python",
   "nbconvert_exporter": "python",
   "pygments_lexer": "ipython3",
   "version": "3.9.7"
  },
  "orig_nbformat": 4
 },
 "nbformat": 4,
 "nbformat_minor": 2
}
